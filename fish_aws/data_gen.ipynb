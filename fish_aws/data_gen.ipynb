{
 "cells": [
  {
   "cell_type": "code",
   "execution_count": 1,
   "metadata": {
    "collapsed": false
   },
   "outputs": [
    {
     "name": "stderr",
     "output_type": "stream",
     "text": [
      "Using TensorFlow backend.\n",
      "//anaconda/lib/python3.5/site-packages/sklearn/cross_validation.py:44: DeprecationWarning: This module was deprecated in version 0.18 in favor of the model_selection module into which all the refactored classes and functions are moved. Also note that the interface of the new CV iterators are different from that of this module. This module will be removed in 0.20.\n",
      "  \"This module will be removed in 0.20.\", DeprecationWarning)\n"
     ]
    }
   ],
   "source": [
    "import numpy as np\n",
    "import keras\n",
    "\n",
    "import os\n",
    "import glob\n",
    "import cv2\n",
    "import datetime\n",
    "import pandas as pd\n",
    "import time\n",
    "import warnings\n",
    "\n",
    "warnings.filterwarnings(\"ignore\")\n",
    "\n",
    "from sklearn.cross_validation import KFold\n",
    "from keras.models import Sequential\n",
    "from keras.layers.core import Dense, Dropout, Flatten\n",
    "from keras.layers.convolutional import Convolution2D, MaxPooling2D, ZeroPadding2D\n",
    "from keras.optimizers import SGD\n",
    "from keras.callbacks import EarlyStopping\n",
    "from keras.utils import np_utils\n",
    "from sklearn.metrics import log_loss\n",
    "from keras import __version__ as keras_version\n",
    "from keras.callbacks import EarlyStopping\n",
    "\n",
    "import data_set\n",
    "%load_ext autoreload\n",
    "%autoreload 2\n",
    "\n"
   ]
  },
  {
   "cell_type": "code",
   "execution_count": 2,
   "metadata": {
    "collapsed": false
   },
   "outputs": [
    {
     "data": {
      "text/plain": [
       "'2.0.1'"
      ]
     },
     "execution_count": 2,
     "metadata": {},
     "output_type": "execute_result"
    }
   ],
   "source": [
    "keras_version"
   ]
  },
  {
   "cell_type": "code",
   "execution_count": 3,
   "metadata": {
    "collapsed": true
   },
   "outputs": [],
   "source": [
    "from keras.preprocessing.image import ImageDataGenerator, array_to_img, img_to_array, load_img"
   ]
  },
  {
   "cell_type": "code",
   "execution_count": 4,
   "metadata": {
    "collapsed": true
   },
   "outputs": [],
   "source": [
    "FLAGS = dict()\n",
    "FLAGS['width'] = 32\n",
    "FLAGS['height'] = 32\n",
    "FLAGS['batch_size'] = 20\n",
    "FLAGS['kernel_1_out'] = 8\n",
    "FLAGS['kernel_2_out'] = 8\n",
    "FLAGS['conv2_input_width'] = 16\n",
    "FLAGS['conv2_input_height'] = 16\n",
    "FLAGS['n_classes'] = 8\n",
    "FLAGS['learning_rate'] = 0.001\n",
    "FLAGS['batch_size'] = 16\n",
    "FLAGS['n_epochs'] = 20\n",
    "FLAGS['train_report_step'] = 20\n",
    "FLAGS['val_report_step'] = 80\n",
    "FLAGS['keep_prob'] = 0.75\n",
    "FLAGS['reg'] = 0.01\n",
    "FLAGS['patience'] = 3"
   ]
  },
  {
   "cell_type": "code",
   "execution_count": 5,
   "metadata": {
    "collapsed": false
   },
   "outputs": [
    {
     "name": "stdout",
     "output_type": "stream",
     "text": [
      "Read train images\n",
      "Load folder ALB (Index: 0)\n",
      "Load folder BET (Index: 1)\n",
      "Load folder DOL (Index: 2)\n",
      "Load folder LAG (Index: 3)\n",
      "Load folder NoF (Index: 4)\n",
      "Load folder OTHER (Index: 5)\n",
      "Load folder SHARK (Index: 6)\n",
      "Load folder YFT (Index: 7)\n",
      "Read train data time: 469.97 seconds\n"
     ]
    }
   ],
   "source": [
    "data = data_set.DataSet(width = FLAGS['width'], height=FLAGS['height'])"
   ]
  },
  {
   "cell_type": "code",
   "execution_count": 6,
   "metadata": {
    "collapsed": true
   },
   "outputs": [],
   "source": [
    "X_val, y_val = data.get_validation_set()"
   ]
  },
  {
   "cell_type": "code",
   "execution_count": 14,
   "metadata": {
    "collapsed": true
   },
   "outputs": [],
   "source": [
    "def create_model():\n",
    "    model = Sequential()\n",
    "    model.add(ZeroPadding2D((1, 1), input_shape=(32, 32, 3)))\n",
    "    model.add(Convolution2D(4, 3, 3, activation='relu'))\n",
    "    model.add(ZeroPadding2D((1, 1)))\n",
    "    model.add(Convolution2D(4, 3, 3, activation='relu'))\n",
    "    model.add(MaxPooling2D(pool_size=(2, 2), strides=(2, 2)))\n",
    "\n",
    "    model.add(ZeroPadding2D((1, 1)))\n",
    "    model.add(Convolution2D(8, 3, 3, activation='relu'))\n",
    "    model.add(ZeroPadding2D((1, 1)))\n",
    "    model.add(Convolution2D(8, 3, 3, activation='relu'))\n",
    "    model.add(MaxPooling2D(pool_size=(2, 2), strides=(2, 2)))\n",
    "    \n",
    "    model.add(Flatten())\n",
    "    model.add(Dense(32, activation='relu'))\n",
    "    model.add(Dropout(0.5))\n",
    "    model.add(Dense(32, activation='relu'))\n",
    "    model.add(Dropout(0.5))\n",
    "    model.add(Dense(8, activation='softmax'))\n",
    "\n",
    "    sgd = SGD(lr=1e-2, decay=1e-6, momentum=0.9, nesterov=True)\n",
    "    model.compile(optimizer=sgd, loss='categorical_crossentropy')\n",
    "\n",
    "    return model\n"
   ]
  },
  {
   "cell_type": "code",
   "execution_count": 15,
   "metadata": {
    "collapsed": true
   },
   "outputs": [],
   "source": [
    "model = create_model()"
   ]
  },
  {
   "cell_type": "code",
   "execution_count": 16,
   "metadata": {
    "collapsed": true
   },
   "outputs": [],
   "source": [
    "datagen = ImageDataGenerator(horizontal_flip=True,\n",
    "                            rotation_range=40,\n",
    "                            fill_mode='nearest')"
   ]
  },
  {
   "cell_type": "code",
   "execution_count": 10,
   "metadata": {
    "collapsed": false
   },
   "outputs": [],
   "source": [
    "val_generator = ImageDataGenerator()\n",
    "val_gen_flow = val_generator.flow(X_val, y_val, batch_size=FLAGS['batch_size'])"
   ]
  },
  {
   "cell_type": "code",
   "execution_count": 11,
   "metadata": {
    "collapsed": false
   },
   "outputs": [],
   "source": [
    "train_gen = datagen.flow(data.X_train, \n",
    "                                 data.y_train,\n",
    "                                 shuffle=True,\n",
    "                                 batch_size=FLAGS['batch_size'])\n"
   ]
  },
  {
   "cell_type": "code",
   "execution_count": 12,
   "metadata": {
    "collapsed": false
   },
   "outputs": [
    {
     "name": "stdout",
     "output_type": "stream",
     "text": [
      "Epoch 1/20\n",
      "188/188 [==============================] - 14s - loss: 1.6761 - val_loss: 1.6353\n",
      "Epoch 2/20\n",
      "188/188 [==============================] - 11s - loss: 1.6029 - val_loss: 1.6254\n",
      "Epoch 3/20\n",
      "188/188 [==============================] - 11s - loss: 1.5997 - val_loss: 1.6648\n",
      "Epoch 4/20\n",
      "188/188 [==============================] - 11s - loss: 1.6058 - val_loss: 1.6367\n",
      "Epoch 5/20\n",
      "188/188 [==============================] - 11s - loss: 1.5891 - val_loss: 1.6203\n",
      "Epoch 6/20\n",
      "188/188 [==============================] - 11s - loss: 1.5955 - val_loss: 1.6566\n",
      "Epoch 7/20\n",
      "188/188 [==============================] - 11s - loss: 1.5982 - val_loss: 1.6459\n",
      "Epoch 8/20\n",
      "188/188 [==============================] - 11s - loss: 1.5964 - val_loss: 1.6410\n",
      "Epoch 9/20\n",
      "188/188 [==============================] - 11s - loss: 1.5922 - val_loss: 1.6692\n",
      "Epoch 10/20\n",
      "188/188 [==============================] - 11s - loss: 1.5948 - val_loss: 1.6354\n",
      "Epoch 11/20\n",
      "188/188 [==============================] - 11s - loss: 1.5860 - val_loss: 1.6544\n"
     ]
    },
    {
     "data": {
      "text/plain": [
       "<keras.callbacks.History at 0x12f3f2630>"
      ]
     },
     "execution_count": 12,
     "metadata": {},
     "output_type": "execute_result"
    }
   ],
   "source": [
    "steps_per_epoch = data.X_train.shape[0]//FLAGS['batch_size']\n",
    "val_steps = X_val.shape[0]//FLAGS['batch_size']\n",
    "callbacks = [EarlyStopping(monitor='val_loss', patience=5, verbose=0)]\n",
    "model.fit_generator(train_gen, \n",
    "                    steps_per_epoch= steps_per_epoch,                                 \n",
    "                    nb_epoch=20,\n",
    "                    validation_data=val_gen_flow,\n",
    "                    validation_steps=val_steps,\n",
    "                    callbacks = callbacks)"
   ]
  },
  {
   "cell_type": "code",
   "execution_count": 13,
   "metadata": {
    "collapsed": true
   },
   "outputs": [],
   "source": [
    "datagen.flow?"
   ]
  },
  {
   "cell_type": "code",
   "execution_count": 22,
   "metadata": {
    "collapsed": false
   },
   "outputs": [
    {
     "name": "stdout",
     "output_type": "stream",
     "text": [
      "Epoch 0\n",
      "avg. loss for epoch 0:1.6692178354323286\n",
      "Epoch 1\n",
      "avg. loss for epoch 1:1.610673231385631\n",
      "Epoch 2\n",
      "avg. loss for epoch 2:1.60135467034308\n",
      "Epoch 3\n",
      "avg. loss for epoch 3:1.6017817150319267\n",
      "Epoch 4\n",
      "avg. loss for epoch 4:1.5989781152093225\n",
      "Epoch 5\n",
      "avg. loss for epoch 5:1.5963131842412763\n",
      "Epoch 6\n",
      "avg. loss for epoch 6:1.5965758575899085\n",
      "Epoch 7\n",
      "avg. loss for epoch 7:1.5968559774015567\n",
      "Epoch 8\n",
      "avg. loss for epoch 8:1.595537757684126\n",
      "Epoch 9\n",
      "avg. loss for epoch 9:1.595895082498378\n",
      "Epoch 10\n",
      "avg. loss for epoch 10:1.5944840542649008\n",
      "Epoch 11\n",
      "avg. loss for epoch 11:1.5953085563783416\n",
      "Epoch 12\n",
      "avg. loss for epoch 12:1.5928869957720275\n",
      "Epoch 13\n",
      "avg. loss for epoch 13:1.5948519143234299\n",
      "Epoch 14\n",
      "avg. loss for epoch 14:1.593489867888788\n",
      "Epoch 15\n",
      "avg. loss for epoch 15:1.5941285840804433\n",
      "Epoch 16\n",
      "avg. loss for epoch 16:1.5939951861626815\n",
      "Epoch 17\n",
      "avg. loss for epoch 17:1.5942977556760878\n",
      "Epoch 18\n",
      "avg. loss for epoch 18:1.5935194160085133\n",
      "Epoch 19\n",
      "avg. loss for epoch 19:1.5934625731048029\n"
     ]
    }
   ],
   "source": [
    "batch_per_epoch = data._num_examples / FLAGS['batch_size']\n",
    "for e in range(FLAGS['n_epochs']):\n",
    "    print('Epoch', e)\n",
    "    batches = 0\n",
    "    #data.shuffle()\n",
    "    loss = 0\n",
    "    perm0 = np.arange(data._num_examples)\n",
    "    np.random.shuffle(perm0)\n",
    "    data._X_train = data._X_train[perm0]\n",
    "    data._y_train = data._y_train[perm0]\n",
    "    \n",
    "    for X_batch, y_batch in datagen.flow(data.X_train, \n",
    "                                 data.y_train,\n",
    "                                 shuffle=True,\n",
    "                                 batch_size=FLAGS['batch_size']):\n",
    "        loss += model.train_on_batch(X_batch, y_batch)\n",
    "        batches += 1\n",
    "        if batches >= batch_per_epoch:\n",
    "            print('avg. loss for epoch {}:{}'.format(e, loss/batch_per_epoch))\n",
    "            break\n"
   ]
  },
  {
   "cell_type": "code",
   "execution_count": 24,
   "metadata": {
    "collapsed": false
   },
   "outputs": [
    {
     "name": "stdout",
     "output_type": "stream",
     "text": [
      "loading 0 of 1000\n",
      "loading 20 of 1000\n",
      "loading 40 of 1000\n",
      "loading 60 of 1000\n",
      "loading 80 of 1000\n",
      "loading 100 of 1000\n",
      "loading 120 of 1000\n",
      "loading 140 of 1000\n",
      "loading 160 of 1000\n",
      "loading 180 of 1000\n",
      "loading 200 of 1000\n",
      "loading 220 of 1000\n",
      "loading 240 of 1000\n",
      "loading 260 of 1000\n",
      "loading 280 of 1000\n",
      "loading 300 of 1000\n",
      "loading 320 of 1000\n",
      "loading 340 of 1000\n",
      "loading 360 of 1000\n",
      "loading 380 of 1000\n",
      "loading 400 of 1000\n",
      "loading 420 of 1000\n",
      "loading 440 of 1000\n",
      "loading 460 of 1000\n",
      "loading 480 of 1000\n",
      "loading 500 of 1000\n",
      "loading 520 of 1000\n",
      "loading 540 of 1000\n",
      "loading 560 of 1000\n",
      "loading 580 of 1000\n",
      "loading 600 of 1000\n",
      "loading 620 of 1000\n",
      "loading 640 of 1000\n",
      "loading 660 of 1000\n",
      "loading 680 of 1000\n",
      "loading 700 of 1000\n",
      "loading 720 of 1000\n",
      "loading 740 of 1000\n",
      "loading 760 of 1000\n",
      "loading 780 of 1000\n",
      "loading 800 of 1000\n",
      "loading 820 of 1000\n",
      "loading 840 of 1000\n",
      "loading 860 of 1000\n",
      "loading 880 of 1000\n",
      "loading 900 of 1000\n",
      "loading 920 of 1000\n",
      "loading 940 of 1000\n",
      "loading 960 of 1000\n",
      "loading 980 of 1000\n"
     ]
    }
   ],
   "source": [
    "import load_images\n",
    "X_test, y_test = load_images.load_test(width = FLAGS['width'], \n",
    "                                                      height=FLAGS['height'])"
   ]
  },
  {
   "cell_type": "code",
   "execution_count": 25,
   "metadata": {
    "collapsed": false
   },
   "outputs": [],
   "source": [
    "preds = model.predict(X_test)"
   ]
  },
  {
   "cell_type": "code",
   "execution_count": 26,
   "metadata": {
    "collapsed": false
   },
   "outputs": [],
   "source": [
    "import make_submission\n",
    "submit = make_submission.makeSubmission(preds, y_test)"
   ]
  },
  {
   "cell_type": "code",
   "execution_count": 27,
   "metadata": {
    "collapsed": false
   },
   "outputs": [
    {
     "data": {
      "text/html": [
       "<div>\n",
       "<table border=\"1\" class=\"dataframe\">\n",
       "  <thead>\n",
       "    <tr style=\"text-align: right;\">\n",
       "      <th></th>\n",
       "      <th>ALB</th>\n",
       "      <th>BET</th>\n",
       "      <th>DOL</th>\n",
       "      <th>LAG</th>\n",
       "      <th>NoF</th>\n",
       "      <th>OTHER</th>\n",
       "      <th>SHARK</th>\n",
       "      <th>YFT</th>\n",
       "      <th>image</th>\n",
       "    </tr>\n",
       "  </thead>\n",
       "  <tbody>\n",
       "    <tr>\n",
       "      <th>980</th>\n",
       "      <td>0.448957</td>\n",
       "      <td>0.053299</td>\n",
       "      <td>0.033279</td>\n",
       "      <td>0.01905</td>\n",
       "      <td>0.136176</td>\n",
       "      <td>0.076786</td>\n",
       "      <td>0.042877</td>\n",
       "      <td>0.189576</td>\n",
       "      <td>img_07663.jpg</td>\n",
       "    </tr>\n",
       "    <tr>\n",
       "      <th>981</th>\n",
       "      <td>0.448957</td>\n",
       "      <td>0.053299</td>\n",
       "      <td>0.033279</td>\n",
       "      <td>0.01905</td>\n",
       "      <td>0.136176</td>\n",
       "      <td>0.076786</td>\n",
       "      <td>0.042877</td>\n",
       "      <td>0.189576</td>\n",
       "      <td>img_07678.jpg</td>\n",
       "    </tr>\n",
       "    <tr>\n",
       "      <th>982</th>\n",
       "      <td>0.448957</td>\n",
       "      <td>0.053299</td>\n",
       "      <td>0.033279</td>\n",
       "      <td>0.01905</td>\n",
       "      <td>0.136176</td>\n",
       "      <td>0.076786</td>\n",
       "      <td>0.042877</td>\n",
       "      <td>0.189576</td>\n",
       "      <td>img_07689.jpg</td>\n",
       "    </tr>\n",
       "    <tr>\n",
       "      <th>983</th>\n",
       "      <td>0.448957</td>\n",
       "      <td>0.053299</td>\n",
       "      <td>0.033279</td>\n",
       "      <td>0.01905</td>\n",
       "      <td>0.136176</td>\n",
       "      <td>0.076786</td>\n",
       "      <td>0.042877</td>\n",
       "      <td>0.189576</td>\n",
       "      <td>img_07700.jpg</td>\n",
       "    </tr>\n",
       "    <tr>\n",
       "      <th>984</th>\n",
       "      <td>0.448957</td>\n",
       "      <td>0.053299</td>\n",
       "      <td>0.033279</td>\n",
       "      <td>0.01905</td>\n",
       "      <td>0.136176</td>\n",
       "      <td>0.076786</td>\n",
       "      <td>0.042877</td>\n",
       "      <td>0.189576</td>\n",
       "      <td>img_07717.jpg</td>\n",
       "    </tr>\n",
       "    <tr>\n",
       "      <th>985</th>\n",
       "      <td>0.448957</td>\n",
       "      <td>0.053299</td>\n",
       "      <td>0.033279</td>\n",
       "      <td>0.01905</td>\n",
       "      <td>0.136176</td>\n",
       "      <td>0.076786</td>\n",
       "      <td>0.042877</td>\n",
       "      <td>0.189576</td>\n",
       "      <td>img_07746.jpg</td>\n",
       "    </tr>\n",
       "    <tr>\n",
       "      <th>986</th>\n",
       "      <td>0.448957</td>\n",
       "      <td>0.053299</td>\n",
       "      <td>0.033279</td>\n",
       "      <td>0.01905</td>\n",
       "      <td>0.136176</td>\n",
       "      <td>0.076786</td>\n",
       "      <td>0.042877</td>\n",
       "      <td>0.189576</td>\n",
       "      <td>img_07757.jpg</td>\n",
       "    </tr>\n",
       "    <tr>\n",
       "      <th>987</th>\n",
       "      <td>0.448957</td>\n",
       "      <td>0.053299</td>\n",
       "      <td>0.033279</td>\n",
       "      <td>0.01905</td>\n",
       "      <td>0.136176</td>\n",
       "      <td>0.076786</td>\n",
       "      <td>0.042877</td>\n",
       "      <td>0.189576</td>\n",
       "      <td>img_07792.jpg</td>\n",
       "    </tr>\n",
       "    <tr>\n",
       "      <th>988</th>\n",
       "      <td>0.448957</td>\n",
       "      <td>0.053299</td>\n",
       "      <td>0.033279</td>\n",
       "      <td>0.01905</td>\n",
       "      <td>0.136176</td>\n",
       "      <td>0.076786</td>\n",
       "      <td>0.042877</td>\n",
       "      <td>0.189576</td>\n",
       "      <td>img_07799.jpg</td>\n",
       "    </tr>\n",
       "    <tr>\n",
       "      <th>989</th>\n",
       "      <td>0.448957</td>\n",
       "      <td>0.053299</td>\n",
       "      <td>0.033279</td>\n",
       "      <td>0.01905</td>\n",
       "      <td>0.136176</td>\n",
       "      <td>0.076786</td>\n",
       "      <td>0.042877</td>\n",
       "      <td>0.189576</td>\n",
       "      <td>img_07818.jpg</td>\n",
       "    </tr>\n",
       "    <tr>\n",
       "      <th>990</th>\n",
       "      <td>0.448957</td>\n",
       "      <td>0.053299</td>\n",
       "      <td>0.033279</td>\n",
       "      <td>0.01905</td>\n",
       "      <td>0.136176</td>\n",
       "      <td>0.076786</td>\n",
       "      <td>0.042877</td>\n",
       "      <td>0.189576</td>\n",
       "      <td>img_07833.jpg</td>\n",
       "    </tr>\n",
       "    <tr>\n",
       "      <th>991</th>\n",
       "      <td>0.448957</td>\n",
       "      <td>0.053299</td>\n",
       "      <td>0.033279</td>\n",
       "      <td>0.01905</td>\n",
       "      <td>0.136176</td>\n",
       "      <td>0.076786</td>\n",
       "      <td>0.042877</td>\n",
       "      <td>0.189576</td>\n",
       "      <td>img_07859.jpg</td>\n",
       "    </tr>\n",
       "    <tr>\n",
       "      <th>992</th>\n",
       "      <td>0.448957</td>\n",
       "      <td>0.053299</td>\n",
       "      <td>0.033279</td>\n",
       "      <td>0.01905</td>\n",
       "      <td>0.136176</td>\n",
       "      <td>0.076786</td>\n",
       "      <td>0.042877</td>\n",
       "      <td>0.189576</td>\n",
       "      <td>img_07872.jpg</td>\n",
       "    </tr>\n",
       "    <tr>\n",
       "      <th>993</th>\n",
       "      <td>0.448957</td>\n",
       "      <td>0.053299</td>\n",
       "      <td>0.033279</td>\n",
       "      <td>0.01905</td>\n",
       "      <td>0.136176</td>\n",
       "      <td>0.076786</td>\n",
       "      <td>0.042877</td>\n",
       "      <td>0.189576</td>\n",
       "      <td>img_07893.jpg</td>\n",
       "    </tr>\n",
       "    <tr>\n",
       "      <th>994</th>\n",
       "      <td>0.448957</td>\n",
       "      <td>0.053299</td>\n",
       "      <td>0.033279</td>\n",
       "      <td>0.01905</td>\n",
       "      <td>0.136176</td>\n",
       "      <td>0.076786</td>\n",
       "      <td>0.042877</td>\n",
       "      <td>0.189576</td>\n",
       "      <td>img_07895.jpg</td>\n",
       "    </tr>\n",
       "    <tr>\n",
       "      <th>995</th>\n",
       "      <td>0.448957</td>\n",
       "      <td>0.053299</td>\n",
       "      <td>0.033279</td>\n",
       "      <td>0.01905</td>\n",
       "      <td>0.136176</td>\n",
       "      <td>0.076786</td>\n",
       "      <td>0.042877</td>\n",
       "      <td>0.189576</td>\n",
       "      <td>img_07905.jpg</td>\n",
       "    </tr>\n",
       "    <tr>\n",
       "      <th>996</th>\n",
       "      <td>0.448957</td>\n",
       "      <td>0.053299</td>\n",
       "      <td>0.033279</td>\n",
       "      <td>0.01905</td>\n",
       "      <td>0.136176</td>\n",
       "      <td>0.076786</td>\n",
       "      <td>0.042877</td>\n",
       "      <td>0.189576</td>\n",
       "      <td>img_07906.jpg</td>\n",
       "    </tr>\n",
       "    <tr>\n",
       "      <th>997</th>\n",
       "      <td>0.448957</td>\n",
       "      <td>0.053299</td>\n",
       "      <td>0.033279</td>\n",
       "      <td>0.01905</td>\n",
       "      <td>0.136176</td>\n",
       "      <td>0.076786</td>\n",
       "      <td>0.042877</td>\n",
       "      <td>0.189576</td>\n",
       "      <td>img_07908.jpg</td>\n",
       "    </tr>\n",
       "    <tr>\n",
       "      <th>998</th>\n",
       "      <td>0.448957</td>\n",
       "      <td>0.053299</td>\n",
       "      <td>0.033279</td>\n",
       "      <td>0.01905</td>\n",
       "      <td>0.136176</td>\n",
       "      <td>0.076786</td>\n",
       "      <td>0.042877</td>\n",
       "      <td>0.189576</td>\n",
       "      <td>img_07910.jpg</td>\n",
       "    </tr>\n",
       "    <tr>\n",
       "      <th>999</th>\n",
       "      <td>0.448957</td>\n",
       "      <td>0.053299</td>\n",
       "      <td>0.033279</td>\n",
       "      <td>0.01905</td>\n",
       "      <td>0.136176</td>\n",
       "      <td>0.076786</td>\n",
       "      <td>0.042877</td>\n",
       "      <td>0.189576</td>\n",
       "      <td>img_07921.jpg</td>\n",
       "    </tr>\n",
       "  </tbody>\n",
       "</table>\n",
       "</div>"
      ],
      "text/plain": [
       "          ALB       BET       DOL      LAG       NoF     OTHER     SHARK  \\\n",
       "980  0.448957  0.053299  0.033279  0.01905  0.136176  0.076786  0.042877   \n",
       "981  0.448957  0.053299  0.033279  0.01905  0.136176  0.076786  0.042877   \n",
       "982  0.448957  0.053299  0.033279  0.01905  0.136176  0.076786  0.042877   \n",
       "983  0.448957  0.053299  0.033279  0.01905  0.136176  0.076786  0.042877   \n",
       "984  0.448957  0.053299  0.033279  0.01905  0.136176  0.076786  0.042877   \n",
       "985  0.448957  0.053299  0.033279  0.01905  0.136176  0.076786  0.042877   \n",
       "986  0.448957  0.053299  0.033279  0.01905  0.136176  0.076786  0.042877   \n",
       "987  0.448957  0.053299  0.033279  0.01905  0.136176  0.076786  0.042877   \n",
       "988  0.448957  0.053299  0.033279  0.01905  0.136176  0.076786  0.042877   \n",
       "989  0.448957  0.053299  0.033279  0.01905  0.136176  0.076786  0.042877   \n",
       "990  0.448957  0.053299  0.033279  0.01905  0.136176  0.076786  0.042877   \n",
       "991  0.448957  0.053299  0.033279  0.01905  0.136176  0.076786  0.042877   \n",
       "992  0.448957  0.053299  0.033279  0.01905  0.136176  0.076786  0.042877   \n",
       "993  0.448957  0.053299  0.033279  0.01905  0.136176  0.076786  0.042877   \n",
       "994  0.448957  0.053299  0.033279  0.01905  0.136176  0.076786  0.042877   \n",
       "995  0.448957  0.053299  0.033279  0.01905  0.136176  0.076786  0.042877   \n",
       "996  0.448957  0.053299  0.033279  0.01905  0.136176  0.076786  0.042877   \n",
       "997  0.448957  0.053299  0.033279  0.01905  0.136176  0.076786  0.042877   \n",
       "998  0.448957  0.053299  0.033279  0.01905  0.136176  0.076786  0.042877   \n",
       "999  0.448957  0.053299  0.033279  0.01905  0.136176  0.076786  0.042877   \n",
       "\n",
       "          YFT          image  \n",
       "980  0.189576  img_07663.jpg  \n",
       "981  0.189576  img_07678.jpg  \n",
       "982  0.189576  img_07689.jpg  \n",
       "983  0.189576  img_07700.jpg  \n",
       "984  0.189576  img_07717.jpg  \n",
       "985  0.189576  img_07746.jpg  \n",
       "986  0.189576  img_07757.jpg  \n",
       "987  0.189576  img_07792.jpg  \n",
       "988  0.189576  img_07799.jpg  \n",
       "989  0.189576  img_07818.jpg  \n",
       "990  0.189576  img_07833.jpg  \n",
       "991  0.189576  img_07859.jpg  \n",
       "992  0.189576  img_07872.jpg  \n",
       "993  0.189576  img_07893.jpg  \n",
       "994  0.189576  img_07895.jpg  \n",
       "995  0.189576  img_07905.jpg  \n",
       "996  0.189576  img_07906.jpg  \n",
       "997  0.189576  img_07908.jpg  \n",
       "998  0.189576  img_07910.jpg  \n",
       "999  0.189576  img_07921.jpg  "
      ]
     },
     "execution_count": 27,
     "metadata": {},
     "output_type": "execute_result"
    }
   ],
   "source": [
    "submit.tail(20)"
   ]
  },
  {
   "cell_type": "code",
   "execution_count": 18,
   "metadata": {
    "collapsed": true
   },
   "outputs": [],
   "source": [
    "preds = model.predict(X_test, batch_size=FLAGS['batch_size'], verbose=2)\n"
   ]
  },
  {
   "cell_type": "code",
   "execution_count": 24,
   "metadata": {
    "collapsed": false
   },
   "outputs": [],
   "source": [
    "import make_submission\n",
    "submit = make_submission.makeSubmission(preds,y_test)"
   ]
  },
  {
   "cell_type": "code",
   "execution_count": 27,
   "metadata": {
    "collapsed": false
   },
   "outputs": [],
   "source": [
    "submit.to_csv('keras_32_32.csv', index=False)"
   ]
  }
 ],
 "metadata": {
  "kernelspec": {
   "display_name": "Python 3",
   "language": "python",
   "name": "python3"
  },
  "language_info": {
   "codemirror_mode": {
    "name": "ipython",
    "version": 3
   },
   "file_extension": ".py",
   "mimetype": "text/x-python",
   "name": "python",
   "nbconvert_exporter": "python",
   "pygments_lexer": "ipython3",
   "version": "3.5.1"
  }
 },
 "nbformat": 4,
 "nbformat_minor": 0
}
